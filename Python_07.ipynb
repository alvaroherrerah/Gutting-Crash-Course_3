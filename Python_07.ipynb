{
 "cells": [
  {
   "cell_type": "code",
   "execution_count": 52,
   "id": "initial_id",
   "metadata": {
    "collapsed": true,
    "ExecuteTime": {
     "end_time": "2024-03-10T22:00:39.860746100Z",
     "start_time": "2024-03-10T22:00:39.853106Z"
    }
   },
   "outputs": [],
   "source": [
    "class Dog():\n",
    "    \"\"\"A simple attempt to model a dog\"\"\"\n",
    "    def __init__(self, name, age):\n",
    "        \"\"\"Giving a name and age to the dog\"\"\"\n",
    "        self.name = name\n",
    "        self.age = age\n",
    "        \n",
    "    def sit(self):\n",
    "        \"\"\"simulates a dog sitting in command\"\"\"\n",
    "        print(f\"{self.name.title()} is now sitting.\")\n",
    "\n",
    "    def roll_over(self):\n",
    "        \"\"\"simulates roll over command\"\"\"\n",
    "        print(f\"{self.name.title()} is now rolling over.\")    "
   ]
  },
  {
   "cell_type": "code",
   "outputs": [
    {
     "name": "stdout",
     "output_type": "stream",
     "text": [
      "Mi perro es Bruno\n",
      "Mi perro tiene 4 años.\n",
      "Mi perro Bruno is now sitting.\n",
      "Mi perro Bruno is now rolling over.\n"
     ]
    }
   ],
   "source": [
    "mi_perro = Dog(\"Bruno\", 4)\n",
    "\n",
    "print(f\"Mi perro es {mi_perro.name.title()}\")\n",
    "print(f\"Mi perro tiene {str(mi_perro.age)} años.\")\n",
    "print(f\"Mi perro\", end=\" \")\n",
    "mi_perro.sit()\n",
    "\n",
    "print(f\"Mi perro\", end=\" \")\n",
    "mi_perro.roll_over()"
   ],
   "metadata": {
    "collapsed": false,
    "ExecuteTime": {
     "end_time": "2024-03-10T22:00:39.861774700Z",
     "start_time": "2024-03-10T22:00:39.857552300Z"
    }
   },
   "id": "fabf8de9ce86d72",
   "execution_count": 53
  },
  {
   "cell_type": "code",
   "outputs": [],
   "source": [
    "class Car():\n",
    "    \"\"\"Información sobre el coche\"\"\"\n",
    "    def __init__(self, make, model, year):\n",
    "        \"\"\"Darnos info sobre el coche\"\"\"\n",
    "        self.make = make\n",
    "        self.model = model\n",
    "        self.year = year\n",
    "        self.odometer_reading = 0\n",
    "    def descripcion(self):\n",
    "        \"\"\"Fusión del nombre\"\"\"\n",
    "        nombre_completo = f'{self.make} {self.model} {str(self.year)}' \n",
    "        return nombre_completo.title()\n",
    "    def set_odometer(self):\n",
    "        \"\"\"Cuentaquilometros de odometer\"\"\"\n",
    "        print(f\"This car has {str(self.odometer_reading)} km on it.\")\n",
    "    def uppdate_odometer(self, update):\n",
    "        \"\"\"Cuentaquilometros de update de odometer\"\"\"\n",
    "        self.odometer_reading = update\n",
    "    "
   ],
   "metadata": {
    "collapsed": false,
    "ExecuteTime": {
     "end_time": "2024-03-10T22:00:39.866656200Z",
     "start_time": "2024-03-10T22:00:39.861746800Z"
    }
   },
   "id": "31a1a51f7ea8836b",
   "execution_count": 54
  },
  {
   "cell_type": "code",
   "outputs": [
    {
     "name": "stdout",
     "output_type": "stream",
     "text": [
      "Tesla Model S 2020\n",
      "This car has 500 km on it.\n"
     ]
    }
   ],
   "source": [
    "mi_coche = Car(\"Tesla\", \"Model S\", 2020)\n",
    "print(mi_coche.descripcion())\n",
    "mi_coche.uppdate_odometer(500)\n",
    "mi_coche.set_odometer()\n"
   ],
   "metadata": {
    "collapsed": false,
    "ExecuteTime": {
     "end_time": "2024-03-10T22:00:39.879116700Z",
     "start_time": "2024-03-10T22:00:39.866656200Z"
    }
   },
   "id": "45647dd6da35a708",
   "execution_count": 55
  },
  {
   "cell_type": "code",
   "outputs": [
    {
     "name": "stdout",
     "output_type": "stream",
     "text": [
      "This car has 500 km on it.\n"
     ]
    }
   ],
   "source": [
    "mi_coche.set_odometer()"
   ],
   "metadata": {
    "collapsed": false,
    "ExecuteTime": {
     "end_time": "2024-03-10T22:00:39.904337600Z",
     "start_time": "2024-03-10T22:00:39.871648900Z"
    }
   },
   "id": "49078648c810290d",
   "execution_count": 56
  },
  {
   "cell_type": "code",
   "outputs": [],
   "source": [
    "class Car():\n",
    "    \"\"\"Información sobre el coche\"\"\"\n",
    "    def __init__(self, make, model, year):\n",
    "        \"\"\"Darnos info sobre el coche\"\"\"\n",
    "        self.make = make\n",
    "        self.model = model\n",
    "        self.year = year\n",
    "        self.odometer_reading = 0\n",
    "    def descripcion(self):\n",
    "        \"\"\"Fusión del nombre\"\"\"\n",
    "        nombre_completo = f'{self.make} {self.model} {str(self.year)}' \n",
    "        return nombre_completo.title()\n",
    "    def set_odometer(self):\n",
    "        \"\"\"Cuentaquilometros de odometer\"\"\"\n",
    "        print(f\"This car has {str(self.odometer_reading)} km on it.\")\n",
    "    def uppdate_odometer(self, update):\n",
    "        \"\"\"Cuentaquilometros de update de odometer\"\"\"\n",
    "        if update >= self.odometer_reading:\n",
    "            self.odometer_reading = update\n",
    "        elif update < self.odometer_reading:\n",
    "            print(\"Odometer can't go backwards\")\n",
    "    "
   ],
   "metadata": {
    "collapsed": false,
    "ExecuteTime": {
     "end_time": "2024-03-10T22:00:39.904337600Z",
     "start_time": "2024-03-10T22:00:39.876627Z"
    }
   },
   "id": "a52fbd870da3b1",
   "execution_count": 57
  },
  {
   "cell_type": "code",
   "outputs": [
    {
     "name": "stdout",
     "output_type": "stream",
     "text": [
      "Tesla Model S 2020\n",
      "This car has 0 km on it.\n",
      "This car has 500 km on it.\n",
      "500\n",
      "Odometer can't go backwards\n",
      "This car has 500 km on it.\n",
      "500\n"
     ]
    }
   ],
   "source": [
    "mi_coche = Car(\"Tesla\", \"Model S\", 2020)\n",
    "print(mi_coche.descripcion())\n",
    "mi_coche.set_odometer()\n",
    "mi_coche.uppdate_odometer(500)\n",
    "mi_coche.set_odometer()\n",
    "print(mi_coche.odometer_reading)\n",
    "mi_coche.uppdate_odometer(300)\n",
    "mi_coche.set_odometer()\n",
    "print(mi_coche.odometer_reading)"
   ],
   "metadata": {
    "collapsed": false,
    "ExecuteTime": {
     "end_time": "2024-03-10T22:00:39.905357200Z",
     "start_time": "2024-03-10T22:00:39.881141200Z"
    }
   },
   "id": "b75d4227d2148508",
   "execution_count": 58
  },
  {
   "cell_type": "code",
   "outputs": [],
   "source": [
    "class Car():\n",
    "    \"\"\"Información sobre el coche\"\"\"\n",
    "    def __init__(self, make, model, year):\n",
    "        \"\"\"Darnos info sobre el coche\"\"\"\n",
    "        self.make = make\n",
    "        self.model = model\n",
    "        self.year = year\n",
    "        self.odometer_reading = 0\n",
    "    def descripcion(self):\n",
    "        \"\"\"Fusión del nombre\"\"\"\n",
    "        nombre_completo = f'{self.make} {self.model} {str(self.year)}' \n",
    "        return nombre_completo.title()\n",
    "    def set_odometer(self):\n",
    "        \"\"\"Cuentaquilometros de odometer\"\"\"\n",
    "        print(f\"This car has {str(self.odometer_reading)} km on it.\")\n",
    "    def uppdate_odometer(self, update):\n",
    "        \"\"\"Cuentaquilometros de update de odometer\"\"\"\n",
    "        if update >= self.odometer_reading:\n",
    "            self.odometer_reading = update\n",
    "        elif update < self.odometer_reading:\n",
    "            print(\"Odometer can't go backwards\")\n",
    "    def increment_odometer(self, increment):\n",
    "        \"\"\"Incrementador de kilómetros\"\"\"\n",
    "        self.odometer_reading += increment"
   ],
   "metadata": {
    "collapsed": false,
    "ExecuteTime": {
     "end_time": "2024-03-10T22:00:39.905357200Z",
     "start_time": "2024-03-10T22:00:39.887476900Z"
    }
   },
   "id": "fe166631764b3295",
   "execution_count": 59
  },
  {
   "cell_type": "code",
   "outputs": [
    {
     "name": "stdout",
     "output_type": "stream",
     "text": [
      "Tesla Model S 2020\n",
      "This car has 0 km on it.\n",
      "This car has 500 km on it.\n",
      "Odometer can't go backwards\n",
      "This car has 500 km on it.\n",
      "This car has 1000 km on it.\n"
     ]
    }
   ],
   "source": [
    "mi_coche = Car(\"Tesla\", \"Model S\", 2020)\n",
    "print(mi_coche.descripcion())\n",
    "mi_coche.set_odometer()\n",
    "mi_coche.uppdate_odometer(500)\n",
    "mi_coche.set_odometer()\n",
    "mi_coche.uppdate_odometer(300)\n",
    "mi_coche.set_odometer()\n",
    "mi_coche.increment_odometer(500)\n",
    "mi_coche.set_odometer()"
   ],
   "metadata": {
    "collapsed": false,
    "ExecuteTime": {
     "end_time": "2024-03-10T22:00:39.905357200Z",
     "start_time": "2024-03-10T22:00:39.891303700Z"
    }
   },
   "id": "1282ed0386cb46e8",
   "execution_count": 60
  },
  {
   "cell_type": "code",
   "outputs": [],
   "source": [
    "class electricCar(Car):\n",
    "    def __init__(self, make, model, year):\n",
    "        super().__init__(make, model, year)\n",
    "        \n",
    "    \n",
    "   \n"
   ],
   "metadata": {
    "collapsed": false,
    "ExecuteTime": {
     "end_time": "2024-03-10T22:00:39.906357Z",
     "start_time": "2024-03-10T22:00:39.895871300Z"
    }
   },
   "id": "c7d911e820a3fd5e",
   "execution_count": 61
  },
  {
   "cell_type": "code",
   "outputs": [
    {
     "name": "stdout",
     "output_type": "stream",
     "text": [
      "This car has 0 km on it.\n"
     ]
    }
   ],
   "source": [
    "my_tesla = electricCar('tesla', 'model s', 2016)\n",
    "my_tesla.descripcion()\n",
    "my_tesla.set_odometer()"
   ],
   "metadata": {
    "collapsed": false,
    "ExecuteTime": {
     "end_time": "2024-03-10T22:00:39.951101400Z",
     "start_time": "2024-03-10T22:00:39.898645300Z"
    }
   },
   "id": "44a38325217ab0d1",
   "execution_count": 62
  },
  {
   "cell_type": "code",
   "outputs": [
    {
     "name": "stdout",
     "output_type": "stream",
     "text": [
      "Pepa ha elegido R como lenguaje preferente.\n",
      "Juan ha elegido Python como lenguaje preferente.\n",
      "Edward ha elegido Ruby como lenguaje preferente.\n",
      "Phil ha elegido Python como lenguaje preferente.\n"
     ]
    }
   ],
   "source": [
    "from _collections import OrderedDict\n",
    "\n",
    "mi_diccionario = OrderedDict()\n",
    "\n",
    "mi_diccionario['Pepa'] = \"R\"\n",
    "mi_diccionario['Juan'] = \"Python\"\n",
    "mi_diccionario['edward'] = 'ruby'\n",
    "mi_diccionario['phil'] = 'python'\n",
    "\n",
    "for nombre, lengua in mi_diccionario.items():\n",
    "    print(f'{nombre.title()} ha elegido {lengua.title()} como lenguaje preferente.')\n"
   ],
   "metadata": {
    "collapsed": false,
    "ExecuteTime": {
     "end_time": "2024-03-10T22:34:24.404135400Z",
     "start_time": "2024-03-10T22:34:24.399559400Z"
    }
   },
   "id": "cae0c3c50b81cb97",
   "execution_count": 65
  },
  {
   "cell_type": "code",
   "outputs": [
    {
     "name": "stdout",
     "output_type": "stream",
     "text": [
      "5\n",
      "[66, 92, 99, 11, 61, 55, 77, 16, 35]\n",
      "['R', 'G', 'G', 'G', 'B', 'B', 'B', 'B', 'Y', 'B']\n",
      "[2, 1, 3, 3, 3, 2, 0, 0, 3, 3, 0, 0, 3, 2, 2]\n"
     ]
    }
   ],
   "source": [
    "from random import randint\n",
    "from random import sample\n",
    "from random import choices\n",
    "pepe = randint(1, 10)\n",
    "print(pepe)\n",
    "\n",
    "\n",
    "muestra = random.sample(range(100), 9)\n",
    "print(muestra)\n",
    "\n",
    "colors = [\"R\", \"G\", \"B\", \"Y\"]\n",
    "colors = choices(colors, k = 10)\n",
    "print(colors)\n",
    "\n",
    "muestra_2 = range(4)\n",
    "muestra_2 = choices(muestra_2, k =15)\n",
    "print(list(muestra_2))"
   ],
   "metadata": {
    "collapsed": false,
    "ExecuteTime": {
     "end_time": "2024-03-10T23:01:28.785111400Z",
     "start_time": "2024-03-10T23:01:28.781172400Z"
    }
   },
   "id": "5c6ab941c256789d",
   "execution_count": 112
  },
  {
   "cell_type": "code",
   "outputs": [
    {
     "name": "stdout",
     "output_type": "stream",
     "text": [
      "[7, 10, 5, 9, 3, 7, 9, 4, 10, 9, 2, 4, 5, 3, 2, 9, 5, 5, 1, 8, 5, 1, 8, 4, 2, 5, 10, 6, 2, 8, 5, 5, 2, 4, 4, 2, 4, 8, 4, 9, 10, 10, 3, 7, 10, 2, 9, 9, 10, 10, 5, 6, 9, 5, 9, 7, 7, 5, 3, 10, 8, 3, 7, 2, 4, 2, 3, 6, 2, 8, 1, 6, 8, 10, 5, 2, 9, 1, 10, 8, 3, 6, 4, 1, 4, 4, 9, 7, 10, 9, 7, 3, 8, 5, 9, 4, 3, 3, 6, 4]\n"
     ]
    }
   ],
   "source": [
    "from random import randint\n",
    "\n",
    "lista = []\n",
    "while len(lista) < 100:\n",
    "    lista.append(randint(1,10))\n",
    "print(lista)"
   ],
   "metadata": {
    "collapsed": false,
    "ExecuteTime": {
     "end_time": "2024-03-10T23:05:07.377295800Z",
     "start_time": "2024-03-10T23:05:07.372856600Z"
    }
   },
   "id": "9d78cd14d32e855b",
   "execution_count": 119
  }
 ],
 "metadata": {
  "kernelspec": {
   "display_name": "Python 3",
   "language": "python",
   "name": "python3"
  },
  "language_info": {
   "codemirror_mode": {
    "name": "ipython",
    "version": 2
   },
   "file_extension": ".py",
   "mimetype": "text/x-python",
   "name": "python",
   "nbconvert_exporter": "python",
   "pygments_lexer": "ipython2",
   "version": "2.7.6"
  }
 },
 "nbformat": 4,
 "nbformat_minor": 5
}
